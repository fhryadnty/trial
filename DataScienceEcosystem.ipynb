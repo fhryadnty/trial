{
 "cells": [
  {
   "cell_type": "markdown",
   "id": "33536779-e8ea-4926-ab6e-e714f1111d70",
   "metadata": {},
   "source": [
    "# Data Science Tools and Ecosystem"
   ]
  },
  {
   "cell_type": "markdown",
   "id": "a4af2f7c-7d0c-4050-b00a-dff08e2a5549",
   "metadata": {},
   "source": [
    "In this notebook, Data Science Tools and Ecosystem are summarized."
   ]
  },
  {
   "cell_type": "markdown",
   "id": "6072aab1-016b-4e0c-9523-f0cebb57f502",
   "metadata": {},
   "source": [
    "**Objectives:**"
   ]
  },
  {
   "cell_type": "markdown",
   "id": "05340b80-f130-4b04-931a-660723f4eca4",
   "metadata": {},
   "source": [
    "1. List popular languages for Data Science\n",
    "2. List Commonly Used Library for Data Science\n",
    "3. List of Data Science Tools"
   ]
  },
  {
   "cell_type": "markdown",
   "id": "05315cb8-9e55-4234-a2dc-58c83094296c",
   "metadata": {},
   "source": [
    "Some of the popular languages that Data Scientists use are:\n",
    "1. Python\n",
    "2. Java\n",
    "3. R"
   ]
  },
  {
   "cell_type": "markdown",
   "id": "5f5c1954-51c1-4c0b-a73e-5c741d279ab7",
   "metadata": {
    "tags": []
   },
   "source": [
    "Some of the commonly used libraries used by Data Scientists include:\n",
    "1. Numpy\n",
    "2. Pandas\n",
    "3. Matplotlib"
   ]
  },
  {
   "cell_type": "markdown",
   "id": "68e29f57-fcd3-4c00-a624-2fce8d5b89a6",
   "metadata": {
    "tags": []
   },
   "source": [
    "| Data Science Tools |\n",
    "| ------ |\n",
    "| Python |\n",
    "| Tableau |\n",
    "| SQL |"
   ]
  },
  {
   "cell_type": "markdown",
   "id": "7591ec76-ad95-4af1-83ed-a260802f69c0",
   "metadata": {},
   "source": [
    "### Below are a few examples of evaluating arithmetic expressions in Python"
   ]
  },
  {
   "cell_type": "code",
   "execution_count": 3,
   "id": "cc2e2d11-446d-46ac-a803-8ba9e756d6fd",
   "metadata": {
    "tags": []
   },
   "outputs": [
    {
     "data": {
      "text/plain": [
       "17"
      ]
     },
     "execution_count": 3,
     "metadata": {},
     "output_type": "execute_result"
    }
   ],
   "source": [
    "# This a simple arithmetic expression to mutiply then add integers\n",
    "(3*4)+5"
   ]
  },
  {
   "cell_type": "code",
   "execution_count": 4,
   "id": "37becf01-bc40-494d-9705-15905aafd12f",
   "metadata": {
    "tags": []
   },
   "outputs": [
    {
     "data": {
      "text/plain": [
       "3.3333333333333335"
      ]
     },
     "execution_count": 4,
     "metadata": {},
     "output_type": "execute_result"
    }
   ],
   "source": [
    "# This will convert 200 minutes to hours by diving by 60\n",
    "200/60"
   ]
  },
  {
   "cell_type": "markdown",
   "id": "9cbde393-8d16-4386-899f-9ffd04842d07",
   "metadata": {},
   "source": [
    "## Author\n",
    "fahry"
   ]
  }
 ],
 "metadata": {
  "kernelspec": {
   "display_name": "Python",
   "language": "python",
   "name": "conda-env-python-py"
  },
  "language_info": {
   "codemirror_mode": {
    "name": "ipython",
    "version": 3
   },
   "file_extension": ".py",
   "mimetype": "text/x-python",
   "name": "python",
   "nbconvert_exporter": "python",
   "pygments_lexer": "ipython3",
   "version": "3.7.12"
  }
 },
 "nbformat": 4,
 "nbformat_minor": 5
}
